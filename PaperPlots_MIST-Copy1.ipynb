{
 "cells": [
  {
   "cell_type": "code",
   "execution_count": null,
   "metadata": {},
   "outputs": [],
   "source": [
    "%load_ext autoreload\n",
    "%autoreload 2\n",
    "%matplotlib inline"
   ]
  },
  {
   "cell_type": "code",
   "execution_count": null,
   "metadata": {},
   "outputs": [],
   "source": [
    "import analyze as a\n",
    "import matplotlib.pyplot as plt\n",
    "import matplotlib.colors as mpcolors\n",
    "import numpy as np\n",
    "import paper_plots as pp\n",
    "import sweep_analyze as sa"
   ]
  },
  {
   "cell_type": "code",
   "execution_count": null,
   "metadata": {},
   "outputs": [],
   "source": [
    "panel_width = 1.4  # m\n",
    "dy = panel_width\n",
    "panel_length = 1.18  # m\n",
    "panel_sep = 2e-2  # 2 cm\n",
    "dx = 2* panel_length + panel_sep\n",
    "fig = plt.figure()\n",
    "ax = fig.add_axes([0., 0., dx, dy])\n",
    "ax.axis('off')\n",
    "ax.axvline(x=0, ymin=0, ymax=1, c='k')\n",
    "ax.axvline(x=panel_length, ymin=0, ymax=1, c='k')\n",
    "ax.axvline(x=panel_length+panel_sep, ymin=0, ymax=1, c='k')\n",
    "ax.axvline(x=2*panel_length+panel_sep, ymin=0, ymax=1, c='k')\n",
    "ax.axhline(y=0, xmin=0, xmax=panel_length/dx, c='k')\n",
    "ax.axhline(y=0, xmin=(panel_length+panel_sep)/dx, xmax=1, c='k')\n",
    "ax.axhline(y=dy, xmin=0, xmax=panel_length/dx, c='k')\n",
    "ax.axhline(y=dy, xmin=(panel_length+panel_sep)/dx, xmax=1, c='k')\n",
    "ax.set_xlim(0, dx)\n",
    "ax.set_ylim(0, dy)\n",
    "ax.text(panel_length/2, -panel_width*0.05, 'L', fontsize=20)\n",
    "ax.text(panel_length, -panel_width*0.05, 'S', fontsize=20)\n",
    "ax.text(-panel_length*0.05, panel_width/2, 'W', fontsize=20)\n",
    "plt.show()"
   ]
  },
  {
   "cell_type": "code",
   "execution_count": null,
   "metadata": {},
   "outputs": [],
   "source": [
    "panel_height = 0.75  # m\n",
    "dy = panel_height\n",
    "dx = 2* panel_length + panel_sep\n",
    "fig = plt.figure()\n",
    "ax = fig.add_axes([0., 0., dx, dy])\n",
    "ax.axis('off')\n",
    "ax.axvline(x=0, ymin=0, ymax=1, c='k')\n",
    "ax.axvline(x=panel_length, ymin=0, ymax=1, c='k')\n",
    "ax.axvline(x=panel_length+panel_sep, ymin=0, ymax=1, c='k')\n",
    "ax.axvline(x=2*panel_length+panel_sep, ymin=0, ymax=1, c='k')\n",
    "#ax.axhline(y=0, xmin=0, xmax=panel_length/dx, c='k')\n",
    "#ax.axhline(y=0, xmin=(panel_length+panel_sep)/dx, xmax=1, c='k')\n",
    "ax.axhline(y=dy, xmin=0, xmax=panel_length/dx, c='k')\n",
    "ax.axhline(y=dy, xmin=(panel_length+panel_sep)/dx, xmax=1, c='k')\n",
    "ax.set_xlim(0, dx)\n",
    "ax.set_ylim(0, dy)\n",
    "ax.text(panel_length/2, panel_height*1.05, 'L', fontsize=20)\n",
    "ax.text(panel_length*0.995, panel_height*1.05, 'S', fontsize=20)\n",
    "ax.text(-panel_length*0.05, panel_height/2, 'H', fontsize=20)\n",
    "plt.show()"
   ]
  },
  {
   "cell_type": "code",
   "execution_count": null,
   "metadata": {
    "scrolled": true
   },
   "outputs": [],
   "source": [
    "#gain_list, freq, fig, axs = a.polar_beam(gain_list=None, f=None, figsize=(5,3))\n",
    "fig, axs = a.polar_beam(gain_list=gain_list, f=freq, figsize=(5,3))\n",
    "#fig.savefig(\"plots_0804/polar_beam.pdf\", bbox_inches=\"tight\")"
   ]
  },
  {
   "cell_type": "code",
   "execution_count": null,
   "metadata": {},
   "outputs": [],
   "source": [
    "fig, axs = pp.beams(gain_list, freq, False, figsize=(5,3))\n",
    "#fig.savefig(\"plots_0804/beam_gain.pdf\", bbox_inches=\"tight\")"
   ]
  },
  {
   "cell_type": "code",
   "execution_count": null,
   "metadata": {},
   "outputs": [],
   "source": [
    "fig, axs = pp.beams(gain_list, freq, True, figsize=(5,3))\n",
    "#fig.savefig(\"plots_0804/beam_deriv.pdf\", bbox_inches=\"tight\")"
   ]
  },
  {
   "cell_type": "code",
   "execution_count": null,
   "metadata": {},
   "outputs": [],
   "source": [
    "np.isscalar([5])"
   ]
  },
  {
   "cell_type": "code",
   "execution_count": null,
   "metadata": {},
   "outputs": [],
   "source": [
    "f, t, l = a.get_ftl(0, \"sweep\", \"79.5\", ground_plane=False, simulation=\"old_MIST\",)\n",
    "tsouth = a.get_ftl(0, 'sweep', '-24.0', ground_plane=False, simulation=\"old_MIST\", return_fl=False)\n",
    "fig, axs = a.plot_temp_3d(f, l, t, tsouth, figsize=(4,16/6))\n",
    "#fig.savefig('april_plots/waterfall.pdf', bbox_inches='tight')"
   ]
  },
  {
   "cell_type": "code",
   "execution_count": null,
   "metadata": {},
   "outputs": [],
   "source": [
    "f, t, l = a.get_ftl(0, \"sweep\", \"90.0\", ground_plane=False, simulation=\"old_MIST\",)\n",
    "tsouth = a.get_ftl(0, 'sweep', '-24.0', ground_plane=False, simulation=\"old_MIST\", return_fl=False)\n",
    "fig, axs = a.plot_temp_3d(f, l, t, tsouth, figsize=(4,16/6))\n",
    "#fig.savefig('april_plots/waterfall.pdf', bbox_inches='tight')"
   ]
  },
  {
   "cell_type": "code",
   "execution_count": null,
   "metadata": {},
   "outputs": [],
   "source": [
    "rms_old, res_old = a.old_compute_rms(f, t)\n",
    "rms, res = a.compute_rms(f, t)"
   ]
  },
  {
   "cell_type": "code",
   "execution_count": null,
   "metadata": {},
   "outputs": [],
   "source": [
    "plt.figure()\n",
    "for i in range(10):\n",
    "    plt.plot(res[0,i] - res_old[0,i])\n",
    "plt.show()"
   ]
  },
  {
   "cell_type": "code",
   "execution_count": null,
   "metadata": {},
   "outputs": [],
   "source": [
    "plt.figure()\n",
    "plt.imshow(res[0] - res_old[0], aspect=\"auto\")\n",
    "plt.colorbar()"
   ]
  },
  {
   "cell_type": "code",
   "execution_count": null,
   "metadata": {},
   "outputs": [],
   "source": [
    "ix = 0\n",
    "plt.figure()\n",
    "plt.plot(f, t[ix])\n",
    "plt.plot(f, t[ix] - res[0, ix])\n",
    "plt.show()\n",
    "\n",
    "print(res[0, ix])\n",
    "print(rms[0, ix])"
   ]
  },
  {
   "cell_type": "code",
   "execution_count": null,
   "metadata": {
    "scrolled": true
   },
   "outputs": [],
   "source": [
    "largeep0 = sa.rms_sweep(False, \"old_MIST\", azimuth=0, model=\"EDGES_polynomial\")"
   ]
  },
  {
   "cell_type": "code",
   "execution_count": null,
   "metadata": {},
   "outputs": [],
   "source": [
    "miniep0 = sa.rms_sweep(True, \"mini_MIST\", azimuth=0, model=\"EDGES_polynomial\")"
   ]
  },
  {
   "cell_type": "code",
   "execution_count": null,
   "metadata": {},
   "outputs": [],
   "source": [
    "f, t, l = a.get_ftl(0, loc='sweep', sweep_lat=\"90.0\", ground_plane=False, simulation=\"old_MIST\")"
   ]
  },
  {
   "cell_type": "code",
   "execution_count": null,
   "metadata": {},
   "outputs": [],
   "source": [
    "nrms = a.old_compute_rms(f, t, 40, 120, Nfg_array=[6], model_type=\"EDGES_polynomial\")[0]"
   ]
  },
  {
   "cell_type": "code",
   "execution_count": null,
   "metadata": {},
   "outputs": [],
   "source": [
    "im=plt.imshow(np.log10(miniep0*1000), aspect=\"auto\")\n",
    "plt.colorbar()\n",
    "plt.show()"
   ]
  },
  {
   "cell_type": "code",
   "execution_count": null,
   "metadata": {},
   "outputs": [],
   "source": [
    "im=plt.imshow(np.log10(miniep0), aspect=\"auto\")\n",
    "plt.colorbar()\n",
    "plt.show()"
   ]
  },
  {
   "cell_type": "code",
   "execution_count": null,
   "metadata": {},
   "outputs": [],
   "source": [
    "im=plt.imshow(np.log10(largeep0), aspect=\"auto\")\n",
    "plt.colorbar()\n",
    "plt.show()"
   ]
  },
  {
   "cell_type": "code",
   "execution_count": null,
   "metadata": {},
   "outputs": [],
   "source": [
    "im=plt.imshow(np.log10(largeep0), aspect=\"auto\")\n",
    "plt.colorbar()\n",
    "plt.show()"
   ]
  },
  {
   "cell_type": "code",
   "execution_count": null,
   "metadata": {},
   "outputs": [],
   "source": [
    "largeep90 = sa.rms_sweep(False, \"old_MIST\", azimuth=90, model=\"EDGES_Polynomial\")\n",
    "print(\"x\")\n",
    "largeep120 = sa.rms_sweep(False, \"old_MIST\", azimuth=120, model=\"EDGES_Polynomial\")"
   ]
  },
  {
   "cell_type": "code",
   "execution_count": null,
   "metadata": {},
   "outputs": [],
   "source": [
    "largell = np.load('sweep/rms_large_ll.npy')\n",
    "largeep = np.load('sweep/rms_large_ep.npy')\n",
    "smallll = np.load('sweep/rms_small_ll.npy')\n",
    "smallep = np.load('sweep/rms_small_ep.npy')\n",
    "gpll = np.load('sweep/rms_gp_ll.npy')\n",
    "gpep = np.load('sweep/rms_gp_ep.npy')"
   ]
  },
  {
   "cell_type": "code",
   "execution_count": null,
   "metadata": {},
   "outputs": [],
   "source": [
    "fig, axs = pp.histogram(largell, largeep, smallll, smallep, gpll, gpep)"
   ]
  },
  {
   "cell_type": "code",
   "execution_count": null,
   "metadata": {},
   "outputs": [],
   "source": [
    "#fig.savefig('plots/paper_figs/histogram.pdf', bbox_inches='tight')"
   ]
  },
  {
   "cell_type": "code",
   "execution_count": null,
   "metadata": {},
   "outputs": [],
   "source": [
    "np.linspace(-90, 90, 121)[0]"
   ]
  },
  {
   "cell_type": "code",
   "execution_count": null,
   "metadata": {},
   "outputs": [],
   "source": [
    "f, t, l = a.get_ftl(90, \"sweep\", \"79.5\", ground_plane=True, simulation=\"mini_MIST\",)"
   ]
  },
  {
   "cell_type": "code",
   "execution_count": null,
   "metadata": {},
   "outputs": [],
   "source": [
    "f"
   ]
  },
  {
   "cell_type": "code",
   "execution_count": null,
   "metadata": {},
   "outputs": [],
   "source": [
    "# rms for all latitudes, 6-term, EDGES polynomial\n",
    "rms_mini0 = sa.rms_sweep(True, \"mini_MIST\", azimuth=0)\n",
    "rms_mini90 = sa.rms_sweep(True, \"mini_MIST\", azimuth=90)\n",
    "rms_mini120 = sa.rms_sweep(True, \"mini_MIST\", azimuth=120)"
   ]
  },
  {
   "cell_type": "code",
   "execution_count": null,
   "metadata": {},
   "outputs": [],
   "source": [
    "az_list = [0, 90, 120]\n",
    "rms_list = [rms_mini0, rms_mini90, rms_mini120]\n",
    "fig, axs = pp.plot_basic(1, 3, sharex=True, sharey=True, figsize=None, xmajor=4, xminor=1, ymajor=30, yminor=10,\n",
    "                        dx=0.8, dy=0.8, hspace=1.1, vspace=1.1)\n",
    "for i, ax in enumerate(axs):\n",
    "    im = ax.imshow(rms_list[i]*1000, aspect=\"auto\", extent=[0, 24, -90, 90], interpolation=\"none\",\n",
    "                   norm=mpcolors.LogNorm())\n",
    "    im.set_clim(10, 500)\n",
    "    ax.grid(linestyle=\"--\")\n",
    "    ax.set_xlabel(\"LST [h]\")\n",
    "    ax.set_title(\"$\\\\psi_0={:d} \\\\degree$\".format(az_list[i]))\n",
    "axs[0].set_ylabel(\"Latitude [deg]\")\n",
    "cax = fig.add_axes([2.58, 0, 0.04, 0.8])\n",
    "cticks = [10, 50, 200, 300, 400, 500]\n",
    "cbar = fig.colorbar(im, cax=cax, ticks=cticks)\n",
    "cbar.set_ticklabels([str(t) for t in cticks])\n",
    "cbar.set_label(\"RMS [mK]\")"
   ]
  },
  {
   "cell_type": "code",
   "execution_count": null,
   "metadata": {},
   "outputs": [],
   "source": [
    "#rms_arr_list = np.load('sweep/sweep_rms.npz')"
   ]
  },
  {
   "cell_type": "code",
   "execution_count": null,
   "metadata": {},
   "outputs": [],
   "source": [
    "for k in rms_arr_list:\n",
    "    print(k)"
   ]
  },
  {
   "cell_type": "code",
   "execution_count": null,
   "metadata": {},
   "outputs": [],
   "source": [
    "fig, axs = sa.subplot(rms_arr_list, (3,2))"
   ]
  },
  {
   "cell_type": "code",
   "execution_count": null,
   "metadata": {},
   "outputs": [],
   "source": [
    "#fig.savefig('plots/paper_figs/rms_sweep.pdf', bbox_inches='tight')"
   ]
  },
  {
   "cell_type": "code",
   "execution_count": null,
   "metadata": {},
   "outputs": [],
   "source": [
    "rms_n = np.empty((3, 2, 3))  # ant, model, az\n",
    "for i, az in enumerate([0, 90, 120]):\n",
    "    f, t, l = a.get_ftl(az, \"sweep\", \"79.5\", ground_plane=False, simulation=\"old_MIST\")\n",
    "    rms,_ = a.compute_rms(f, t, model_type=\"EDGES_Polynomial\")\n",
    "    rms_n[0, 1, i] = rms[0] * 100\n",
    "    rms,_ = a.compute_rms(f, t, model_type=\"LINLOG\")\n",
    "    rms_n[0, 0, i] = rms[0] * 100\n",
    "    \n",
    "    f, t, l = a.get_ftl(az, \"sweep\", \"79.5\", ground_plane=False, simulation=\"new_MIST\")\n",
    "    rms,_ = a.compute_rms(f, t, model_type=\"EDGES_Polynomial\")\n",
    "    rms_n[1, 1, i] = rms[0] * 100\n",
    "    rms, _= a.compute_rms(f, t, model_type=\"LINLOG\")\n",
    "    rms_n[1, 0, i] = rms[0] * 100\n",
    "    \n",
    "    f, t, l = a.get_ftl(az, \"sweep\", \"79.5\", ground_plane=True, simulation=\"mini_MIST\")\n",
    "    rms,_ = a.compute_rms(f, t, model_type=\"EDGES_Polynomial\")\n",
    "    rms_n[2, 1, i] = rms[0] * 100\n",
    "    rms,_ = a.compute_rms(f, t, model_type=\"LINLOG\")\n",
    "    rms_n[2, 0, i] = rms[0] * 100\n",
    "    \n",
    "    \n",
    "#rms_n = np.load('result_files/rms_snapshots_MARS.npy')"
   ]
  },
  {
   "cell_type": "code",
   "execution_count": null,
   "metadata": {},
   "outputs": [],
   "source": [
    "f"
   ]
  },
  {
   "cell_type": "code",
   "execution_count": null,
   "metadata": {},
   "outputs": [],
   "source": [
    "fig, axs = pp.plot_rms(rms_n, (10,5))"
   ]
  },
  {
   "cell_type": "code",
   "execution_count": null,
   "metadata": {},
   "outputs": [],
   "source": [
    "fig.savefig('plots/paper_figs/rms_mars.pdf', bbox_inches='tight')"
   ]
  },
  {
   "cell_type": "code",
   "execution_count": null,
   "metadata": {},
   "outputs": [],
   "source": [
    "#rms_s = np.load('result_files/rms_snapshots_south.npy')"
   ]
  },
  {
   "cell_type": "code",
   "execution_count": null,
   "metadata": {
    "scrolled": true
   },
   "outputs": [],
   "source": [
    "fig, axs = pp.plot_rms(rms_s, (10,5), north=False)"
   ]
  },
  {
   "cell_type": "code",
   "execution_count": null,
   "metadata": {},
   "outputs": [],
   "source": [
    "fig.savefig('plots/paper_figs/rms_south.pdf', bbox_inches='tight')"
   ]
  },
  {
   "cell_type": "code",
   "execution_count": null,
   "metadata": {},
   "outputs": [],
   "source": [
    "#XXX: invert axis\n",
    "fig, axs = sa.rmsvslat()"
   ]
  },
  {
   "cell_type": "code",
   "execution_count": null,
   "metadata": {},
   "outputs": [],
   "source": [
    "fig.savefig('plots/paper_figs/rms_vs_lat.pdf', bbox_inches='tight')"
   ]
  },
  {
   "cell_type": "code",
   "execution_count": null,
   "metadata": {},
   "outputs": [],
   "source": [
    "# rms_fg = np.load('result_files/rmsvslat_24h_foregrounds.npy')\n",
    "# rms_gauss40 = np.load('result_files/rmsvslat_24h_gauss40.npy') \n",
    "# rms_gauss80 = np.load('result_files/rmsvslat_24h_gauss80.npy')\n",
    "# rms_gauss120 = np.load('result_files/rmsvslat_24h_gauss120.npy')\n",
    "# rms_edges = np.load('result_files/rmsvslat_24h_edges.npy')"
   ]
  },
  {
   "cell_type": "code",
   "execution_count": null,
   "metadata": {},
   "outputs": [],
   "source": [
    "fig, axs = sa.rmsvslat_21cm(rms_fg, rms_gauss40, rms_gauss80, rms_gauss120, rms_edges)"
   ]
  },
  {
   "cell_type": "code",
   "execution_count": null,
   "metadata": {},
   "outputs": [],
   "source": [
    "#rms_arr_super_MARS = np.load('result_files/lst2d_mars.npy')"
   ]
  },
  {
   "cell_type": "code",
   "execution_count": null,
   "metadata": {},
   "outputs": [],
   "source": [
    "fig, axs = a.subplot_LSTbins(rms_arr_super_MARS, 1, 120)"
   ]
  },
  {
   "cell_type": "code",
   "execution_count": null,
   "metadata": {},
   "outputs": [],
   "source": [
    "fig.savefig('plots/paper_figs/lstbin_mars.pdf', bbox_inches='tight')"
   ]
  },
  {
   "cell_type": "code",
   "execution_count": null,
   "metadata": {},
   "outputs": [],
   "source": [
    "#rms_arr_super_south = np.load('result_files/lst2d_south.npy')"
   ]
  },
  {
   "cell_type": "code",
   "execution_count": null,
   "metadata": {},
   "outputs": [],
   "source": [
    "fig, axs = a.subplot_LSTbins(rms_arr_super_south, 10, 500)"
   ]
  },
  {
   "cell_type": "code",
   "execution_count": null,
   "metadata": {},
   "outputs": [],
   "source": [
    "#fig.savefig('plots/paper_figs/lstbin_south.pdf', bbox_inches='tight')"
   ]
  },
  {
   "cell_type": "code",
   "execution_count": null,
   "metadata": {},
   "outputs": [],
   "source": [
    "# gauss40 = np.load('result_files/gauss40.npy')\n",
    "# gauss80 = np.load('result_files/gauss80.npy')\n",
    "# gauss120 = np.load('result_files/gauss120.npy')\n",
    "# edges = np.load('result_files/edges_ratios.npy')"
   ]
  },
  {
   "cell_type": "code",
   "execution_count": null,
   "metadata": {},
   "outputs": [],
   "source": [
    "fig = a.plot_gauss_edges(gauss40, gauss80, gauss120, edges)"
   ]
  },
  {
   "cell_type": "code",
   "execution_count": null,
   "metadata": {},
   "outputs": [],
   "source": [
    "#fig.savefig('plots/paper_figs/mock_signal_ratios_north0.pdf', bbox_inches='tight')"
   ]
  },
  {
   "cell_type": "code",
   "execution_count": null,
   "metadata": {},
   "outputs": [],
   "source": [
    "fig = a.plot_gauss_edges(gauss40, gauss80, gauss120, edges, north=False)"
   ]
  },
  {
   "cell_type": "code",
   "execution_count": null,
   "metadata": {},
   "outputs": [],
   "source": [
    "#fig.savefig('plots/paper_figs/mock_signal_ratios_south0.pdf', bbox_inches='tight')"
   ]
  }
 ],
 "metadata": {
  "kernelspec": {
   "display_name": "Python 3",
   "language": "python",
   "name": "python3"
  },
  "language_info": {
   "codemirror_mode": {
    "name": "ipython",
    "version": 3
   },
   "file_extension": ".py",
   "mimetype": "text/x-python",
   "name": "python",
   "nbconvert_exporter": "python",
   "pygments_lexer": "ipython3",
   "version": "3.8.5"
  }
 },
 "nbformat": 4,
 "nbformat_minor": 4
}
